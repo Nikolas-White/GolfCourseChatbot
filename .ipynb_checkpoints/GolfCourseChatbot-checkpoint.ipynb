{
 "cells": [
  {
   "cell_type": "code",
   "execution_count": null,
   "id": "57e51186-4fe2-4437-b5df-a039e3da586d",
   "metadata": {},
   "outputs": [],
   "source": [
    "import os\n",
    "import openai\n",
    "from dotenv import load_dotenv, find_dotenv\n",
    "_ = load_dotenv(find_dotenv()) \n",
    "\n",
    "#IMPORTANT: in order to run code custom key MUST be added\n",
    "openai.api_key  = os.getenv()"
   ]
  },
  {
   "cell_type": "code",
   "execution_count": null,
   "id": "8435e336-b935-4cb6-9990-96b9c68b902f",
   "metadata": {},
   "outputs": [],
   "source": [
    "def get_completion_from_messages(messages, model=\"gpt-3.5-turbo\", temperature=0):\n",
    "    response = openai.ChatCompletion.create(\n",
    "        model=model,\n",
    "        messages=messages,\n",
    "        temperature=temperature, \n",
    "    )\n",
    "\n",
    "    return response.choices[0].message[\"content\"]"
   ]
  },
  {
   "cell_type": "code",
   "execution_count": null,
   "id": "144526e0-e5f7-49be-988f-04ab919a2bfb",
   "metadata": {},
   "outputs": [],
   "source": [
    "def collect_messages(_):\n",
    "    prompt = inp.value_input\n",
    "    inp.value = ''\n",
    "    context.append({'role':'user', 'content':f\"{prompt}\"})\n",
    "    response = get_completion_from_messages(context) \n",
    "    context.append({'role':'assistant', 'content':f\"{response}\"})\n",
    "    panels.append(\n",
    "        pn.Row('User:', pn.pane.Markdown(prompt, width=600)))\n",
    "    panels.append(\n",
    "        pn.Row('Assistant:', pn.pane.Markdown(response, width=600, style={'background-color': '#F6F6F6'})))\n",
    " \n",
    "    return pn.Column(*panels)"
   ]
  },
  {
   "cell_type": "code",
   "execution_count": null,
   "id": "3158a92d-8d89-4197-9469-9324929824bd",
   "metadata": {},
   "outputs": [],
   "source": [
    "import panel as pn\n",
    "pn.extension()\n",
    "\n",
    "panels = []\n",
    "\n",
    "context = [ {'role':'system', 'content':\"\"\"\n",
    "You are a golf course representative, you will give information for a golf club named “Hillside Forest” which you are representing. \\\n",
    "Speak in a professional manner with golf course etiquette in mind. \\ \n",
    "This is a website application. \\\n",
    "You firstly greet the person viewing this website online, indicating they are talking to an AI chatbot.  \\ \n",
    "\n",
    "DO NOT output information that is not provided in system information. \\\n",
    "DO NOT assume information. \\\n",
    "DO NOT make up names. \\\n",
    "The only names you are allowed to use are the manager’s name: “Tim Edwards” and the client’s name only if they provide one.\n",
    "DO NOT ask for the client’s name. \\\n",
    "DO NOT use humour. \\\n",
    "\n",
    "Only if they ask about the quality of the course you may speak highly of it, DO NOT make up facts. \\\n",
    "\n",
    "Only if they ask about the club’s features, tell them what is provided\n",
    "Features include \\\n",
    "18 Hole golf course \\\n",
    "Tennis courts \\\n",
    "Swimming pool \\\n",
    "\n",
    "Only if they ask about pricing, show them their options. \\\n",
    "The first value of each option indicates initiation fee and the second value indicates annual fee. \\\n",
    "These options include \\\n",
    "Bronze Membership : 40,000, 5,000 \\\n",
    "Silver Membership : 60,000, 7,500 \\\n",
    "Gold Membership : 80,000, 10,000 \\\n",
    "\n",
    "If asked about specific features or details about the club you do not have information too, reply with “Unfortunately, I do not have access to that information, please check our website for more details or email TimEdwardsHillsideForest929@gmail.com”. \\\n",
    "\"\"\"} ]\n",
    "\n",
    "inp = pn.widgets.TextInput(value=\"Hi\", placeholder='Enter text here…')\n",
    "button_conversation = pn.widgets.Button(name=\"Chat!\")\n",
    "\n",
    "interactive_conversation = pn.bind(collect_messages, button_conversation)\n",
    "\n",
    "dashboard = pn.Column(\n",
    "    inp,\n",
    "    pn.Row(button_conversation),\n",
    "    pn.panel(interactive_conversation, loading_indicator=True, height=300),\n",
    ")\n",
    "\n",
    "dashboard"
   ]
  }
 ],
 "metadata": {
  "kernelspec": {
   "display_name": "Python 3 (ipykernel)",
   "language": "python",
   "name": "python3"
  },
  "language_info": {
   "codemirror_mode": {
    "name": "ipython",
    "version": 3
   },
   "file_extension": ".py",
   "mimetype": "text/x-python",
   "name": "python",
   "nbconvert_exporter": "python",
   "pygments_lexer": "ipython3",
   "version": "3.10.13"
  }
 },
 "nbformat": 4,
 "nbformat_minor": 5
}
